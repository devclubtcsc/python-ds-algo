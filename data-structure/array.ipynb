{
  "cells": [
    {
      "cell_type": "markdown",
      "metadata": {
        "id": "ELlhj6Rz1TbZ",
        "colab_type": "text"
      },
      "source": [
        "![](https://github.com/devclubtcsc/python-ds-algo/raw/master/meta/title.png)\n",
        "\n",
        "# Array\n",
        "\n",
        "In this notebook, we will learn about arrays as a data structure using python."
      ]
    },
    {
      "cell_type": "markdown",
      "metadata": {
        "id": "1UMjGK0s1Tbc",
        "colab_type": "text"
      },
      "source": [
        "### Definition"
      ]
    },
    {
      "cell_type": "markdown",
      "metadata": {
        "id": "20cNtQYn1Tbc",
        "colab_type": "text"
      },
      "source": [
        "An array is a collection of items stored at contiguous memory locations. The idea is to store multiple items of the same datatype together. This makes it easier to calculate the position of each element by simply adding an offset to a base value, i.e., the memory location of the first element of the array (generally denoted by the name of the array).\n",
        "\n",
        "> Arrays are defined as the collection of similar type of data items stored at contiguous memory locations.\n",
        "\n",
        "> Arrays have a fixed datatype, i.e., an integer array can only store integer values, unlike \"list\" in python which can store all datatypes.\n",
        "\n",
        "> Arrays are the derived data type in C programming language which can store the primitive type of data such as int, char, double, float, etc.\n",
        "\n",
        "> Arrays technically have fixed size i.e, if an array has capacity of storing 10 elements, it cannot store above 10 elements. But in python, arrays are flexible, i.e size of arrays can be increased or decreased, unlike Java or C++.\n",
        "\n",
        "> Arrays are the derived data type in C programming language which can store the primitive type of data such as int, char, double, float, etc.\n",
        "\n",
        "For example, if we want to store the marks of a student in 6 subjects, then we don't need to define different variable for the marks in different subject. instead of that, we can define an array which can store the marks in each subject at a the contiguous memory locations.\n",
        "\n",
        "![](https://github.com/devclubtcsc/python-ds-algo/raw/master/meta/data-structure/array/contiguous-memory-locations.png)\n",
        "\n",
        "The above image can be looked as a top-level view of a staircase where you are at the base of the staircase. Each element can be uniquely identified by their index in the array (in a similar way as you could identify your friends by the step on which they were on in the above example)."
      ]
    },
    {
      "cell_type": "markdown",
      "metadata": {
        "id": "TeXY0_6I1Tbi",
        "colab_type": "text"
      },
      "source": [
        "### Implementing Array In Python"
      ]
    },
    {
      "cell_type": "markdown",
      "metadata": {
        "id": "pcmsq_DN1Tbi",
        "colab_type": "text"
      },
      "source": [
        "Arrays in python are stored in the array module, which we will import using the import statement."
      ]
    },
    {
      "cell_type": "code",
      "metadata": {
        "id": "3eC954Oc1Tbj",
        "colab_type": "code",
        "colab": {}
      },
      "source": [
        "from array import *"
      ],
      "execution_count": 0,
      "outputs": []
    },
    {
      "cell_type": "markdown",
      "metadata": {
        "id": "Gf1joDeg1Tbm",
        "colab_type": "text"
      },
      "source": [
        "The above line will import array and its functions.\n",
        "Further, you will have to initialize array as follows:"
      ]
    },
    {
      "cell_type": "code",
      "metadata": {
        "id": "kSiDHaim1Tbm",
        "colab_type": "code",
        "colab": {}
      },
      "source": [
        "arr = array('i',[1,2,3,4,5])\n",
        "print(arr)"
      ],
      "execution_count": 0,
      "outputs": []
    },
    {
      "cell_type": "code",
      "metadata": {
        "id": "fKC5BJG01Tbq",
        "colab_type": "code",
        "colab": {}
      },
      "source": [
        "#Try it out yourself in this block!\n"
      ],
      "execution_count": 0,
      "outputs": []
    },
    {
      "cell_type": "markdown",
      "metadata": {
        "id": "JNDRJOY71Tbs",
        "colab_type": "text"
      },
      "source": [
        "Now you must be wondering what does 'i' stand for?\n",
        "Well the 'i' in this case denotes the datatype of array which is signed integer.\n",
        "There are various types of datatypes and the following table mentions datatypes and their typecodes.\n",
        "\n",
        "![](https://github.com/devclubtcsc/python-ds-algo/raw/master/meta/data-structure/array/datatype.png)\n",
        "\n",
        "Go through the table above, and try to create and print array using various data types."
      ]
    },
    {
      "cell_type": "code",
      "metadata": {
        "id": "5u3Aon1W1Tbu",
        "colab_type": "code",
        "colab": {}
      },
      "source": [
        "#Explore here!\n"
      ],
      "execution_count": 0,
      "outputs": []
    },
    {
      "cell_type": "markdown",
      "metadata": {
        "id": "JabeWmYp1Tbx",
        "colab_type": "text"
      },
      "source": [
        "# Operations on Array"
      ]
    },
    {
      "cell_type": "markdown",
      "metadata": {
        "id": "HWJtQHY321Yv",
        "colab_type": "text"
      },
      "source": [
        "\n",
        "### Iterating through an array"
      ]
    },
    {
      "cell_type": "code",
      "metadata": {
        "id": "xTeQj4p21Tby",
        "colab_type": "code",
        "colab": {}
      },
      "source": [
        "from array import *\n",
        "arr = array('i',[1,2,3,4,5])\n",
        "for x in arr:\n",
        "    print(x)"
      ],
      "execution_count": 0,
      "outputs": []
    },
    {
      "cell_type": "markdown",
      "metadata": {
        "id": "KUBmj33K1Tb1",
        "colab_type": "text"
      },
      "source": [
        "Task: Multiply every element of array with 2"
      ]
    },
    {
      "cell_type": "code",
      "metadata": {
        "id": "XpGGyN_n1Tb1",
        "colab_type": "code",
        "colab": {}
      },
      "source": [
        "#Perform task here:\n"
      ],
      "execution_count": 0,
      "outputs": []
    },
    {
      "cell_type": "markdown",
      "metadata": {
        "id": "e8smnhvk1Tb4",
        "colab_type": "text"
      },
      "source": [
        "### Inserting in an array"
      ]
    },
    {
      "cell_type": "code",
      "metadata": {
        "id": "IalRYqKT1Tb4",
        "colab_type": "code",
        "colab": {}
      },
      "source": [
        "arr = array('i',[1,2,3])\n",
        "arr.append(4) #this inserts 4 in array\n",
        "print(arr)"
      ],
      "execution_count": 0,
      "outputs": []
    },
    {
      "cell_type": "markdown",
      "metadata": {
        "id": "r9ek7GJc1Tb8",
        "colab_type": "text"
      },
      "source": [
        "### Deleting from an array"
      ]
    },
    {
      "cell_type": "code",
      "metadata": {
        "id": "Lu0-1sy21Tb8",
        "colab_type": "code",
        "colab": {}
      },
      "source": [
        "arr = array('i',[1,2,3,4,5])\n",
        "arr.pop() #this deletes last element of the array\n",
        "print(arr)"
      ],
      "execution_count": 0,
      "outputs": []
    },
    {
      "cell_type": "markdown",
      "metadata": {
        "id": "fdBZtp7m1Tb_",
        "colab_type": "text"
      },
      "source": [
        "### Taking user input in an array"
      ]
    },
    {
      "cell_type": "code",
      "metadata": {
        "id": "em7fmALX1Tb_",
        "colab_type": "code",
        "colab": {}
      },
      "source": [
        "arr = array('i',[])\n",
        "\n",
        "for x in range(5):\n",
        "    a = int(input(\"Enter value here: \"))\n",
        "    arr.append(a)\n",
        "\n",
        "print(arr)"
      ],
      "execution_count": 0,
      "outputs": []
    },
    {
      "cell_type": "markdown",
      "metadata": {
        "id": "KTSynmAQ1TcC",
        "colab_type": "text"
      },
      "source": [
        "Task: Take array as input from the user and print square of each element"
      ]
    },
    {
      "cell_type": "code",
      "metadata": {
        "id": "_j85Clu-1TcC",
        "colab_type": "code",
        "colab": {}
      },
      "source": [
        "#Perform task here\n"
      ],
      "execution_count": 0,
      "outputs": []
    }
  ],
  "metadata": {
    "kernelspec": {
      "display_name": "Python 3",
      "language": "python",
      "name": "python3"
    },
    "language_info": {
      "codemirror_mode": {
        "name": "ipython",
        "version": 3
      },
      "file_extension": ".py",
      "mimetype": "text/x-python",
      "name": "python",
      "nbconvert_exporter": "python",
      "pygments_lexer": "ipython3",
      "version": "3.8.2"
    },
    "colab": {
      "name": "array.ipynb",
      "provenance": [],
      "collapsed_sections": [],
      "toc_visible": true
    }
  },
  "nbformat": 4,
  "nbformat_minor": 0
}